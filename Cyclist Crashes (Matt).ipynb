{
 "cells": [
  {
   "cell_type": "code",
   "execution_count": 1,
   "metadata": {
    "collapsed": false
   },
   "outputs": [],
   "source": [
    "import pandas as pd\n",
    "import os\n",
    "from geopandas import GeoDataFrame\n",
    "from shapely.geometry import Point\n",
    "import matplotlib.pyplot as plt\n",
    "\n",
    "%matplotlib inline"
   ]
  },
  {
   "cell_type": "code",
   "execution_count": 2,
   "metadata": {
    "collapsed": false
   },
   "outputs": [],
   "source": [
    "# you're going to want to go to your own directory\n",
    "# and have your own copy of the data\n",
    "\n",
    "os.chdir('C:\\\\Users\\mattc\\Downloads')\n",
    "df = pd.read_csv('CyclistCrashes.csv')"
   ]
  },
  {
   "cell_type": "code",
   "execution_count": 3,
   "metadata": {
    "collapsed": false
   },
   "outputs": [
    {
     "data": {
      "text/html": [
       "<div>\n",
       "<table border=\"1\" class=\"dataframe\">\n",
       "  <thead>\n",
       "    <tr style=\"text-align: right;\">\n",
       "      <th></th>\n",
       "      <th>CRASH_ID</th>\n",
       "      <th>CRASH_DATE</th>\n",
       "      <th>CRASH_TIME</th>\n",
       "      <th>SEVERITY</th>\n",
       "      <th>CRASH_TYPE</th>\n",
       "      <th>CYCLISTS</th>\n",
       "      <th>CYCLIST_CASUALTIES</th>\n",
       "      <th>REPORTED_LOCATION</th>\n",
       "      <th>LOCATION_1</th>\n",
       "      <th>geometry</th>\n",
       "    </tr>\n",
       "  </thead>\n",
       "  <tbody>\n",
       "    <tr>\n",
       "      <th>0</th>\n",
       "      <td>1034637</td>\n",
       "      <td>14 May 2012</td>\n",
       "      <td>12:37</td>\n",
       "      <td>Injury</td>\n",
       "      <td>Collision with parked vehicle</td>\n",
       "      <td>1</td>\n",
       "      <td>1</td>\n",
       "      <td>CAPITAL CIRCLE (COMMONWEALTH/COMMSPARLERM -&gt; C...</td>\n",
       "      <td>(-35.304932, 149.125419)</td>\n",
       "      <td>POINT (149.125419 -35.304932)</td>\n",
       "    </tr>\n",
       "    <tr>\n",
       "      <th>1</th>\n",
       "      <td>1055714</td>\n",
       "      <td>20 February 2013</td>\n",
       "      <td>07:57</td>\n",
       "      <td>Injury</td>\n",
       "      <td>Right turn into oncoming vehicle</td>\n",
       "      <td>1</td>\n",
       "      <td>1</td>\n",
       "      <td>MORPHETT/NORTHBOURNE INTERSECTION</td>\n",
       "      <td>(-35.253575, 149.133358)</td>\n",
       "      <td>POINT (149.133358 -35.253575)</td>\n",
       "    </tr>\n",
       "    <tr>\n",
       "      <th>2</th>\n",
       "      <td>1083381</td>\n",
       "      <td>17 March 2014</td>\n",
       "      <td>07:30</td>\n",
       "      <td>Injury</td>\n",
       "      <td>Same direction side swipe</td>\n",
       "      <td>1</td>\n",
       "      <td>1</td>\n",
       "      <td>BUNDA/NORTHBOURNE/RUDD INTERSECTION</td>\n",
       "      <td>(-35.277135, 149.129453)</td>\n",
       "      <td>POINT (149.129453 -35.27713499999999)</td>\n",
       "    </tr>\n",
       "    <tr>\n",
       "      <th>3</th>\n",
       "      <td>1025046</td>\n",
       "      <td>04 January 2012</td>\n",
       "      <td>08:50</td>\n",
       "      <td>Property Damage Only</td>\n",
       "      <td>Other - Vehicle to Vehicle</td>\n",
       "      <td>1</td>\n",
       "      <td>0</td>\n",
       "      <td>BARRY/COOYONG/NORTHBOURNE INTERSECTION</td>\n",
       "      <td>(-35.275784, 149.129771)</td>\n",
       "      <td>POINT (149.129771 -35.275784)</td>\n",
       "    </tr>\n",
       "    <tr>\n",
       "      <th>4</th>\n",
       "      <td>1107433</td>\n",
       "      <td>07 April 2015</td>\n",
       "      <td>08:05</td>\n",
       "      <td>Property Damage Only</td>\n",
       "      <td>Other - Vehicle to Vehicle</td>\n",
       "      <td>1</td>\n",
       "      <td>0</td>\n",
       "      <td>NORTHBOURNE AVENUE (MORPHETT -&gt; MURDOCH)</td>\n",
       "      <td>(-35.252917, 149.133364)</td>\n",
       "      <td>POINT (149.133364 -35.252917)</td>\n",
       "    </tr>\n",
       "  </tbody>\n",
       "</table>\n",
       "</div>"
      ],
      "text/plain": [
       "   CRASH_ID        CRASH_DATE CRASH_TIME              SEVERITY  \\\n",
       "0   1034637       14 May 2012      12:37                Injury   \n",
       "1   1055714  20 February 2013      07:57                Injury   \n",
       "2   1083381     17 March 2014      07:30                Injury   \n",
       "3   1025046   04 January 2012      08:50  Property Damage Only   \n",
       "4   1107433     07 April 2015      08:05  Property Damage Only   \n",
       "\n",
       "                         CRASH_TYPE  CYCLISTS  CYCLIST_CASUALTIES  \\\n",
       "0     Collision with parked vehicle         1                   1   \n",
       "1  Right turn into oncoming vehicle         1                   1   \n",
       "2         Same direction side swipe         1                   1   \n",
       "3        Other - Vehicle to Vehicle         1                   0   \n",
       "4        Other - Vehicle to Vehicle         1                   0   \n",
       "\n",
       "                                   REPORTED_LOCATION  \\\n",
       "0  CAPITAL CIRCLE (COMMONWEALTH/COMMSPARLERM -> C...   \n",
       "1                  MORPHETT/NORTHBOURNE INTERSECTION   \n",
       "2                BUNDA/NORTHBOURNE/RUDD INTERSECTION   \n",
       "3             BARRY/COOYONG/NORTHBOURNE INTERSECTION   \n",
       "4           NORTHBOURNE AVENUE (MORPHETT -> MURDOCH)   \n",
       "\n",
       "                 LOCATION_1                               geometry  \n",
       "0  (-35.304932, 149.125419)          POINT (149.125419 -35.304932)  \n",
       "1  (-35.253575, 149.133358)          POINT (149.133358 -35.253575)  \n",
       "2  (-35.277135, 149.129453)  POINT (149.129453 -35.27713499999999)  \n",
       "3  (-35.275784, 149.129771)          POINT (149.129771 -35.275784)  \n",
       "4  (-35.252917, 149.133364)          POINT (149.133364 -35.252917)  "
      ]
     },
     "execution_count": 3,
     "metadata": {},
     "output_type": "execute_result"
    }
   ],
   "source": [
    "# OK, so we're taking that dataframe, and putting it into a Geo DataFrame\n",
    "# creating shapely points, setting the projection (crs) etc.\n",
    "\n",
    "# projections are hard.   This one is one Sally found.\n",
    "\n",
    "geometry = [Point(xy) for xy in zip(df.LONGITUDE, df.LATITUDE)]\n",
    "df = df.drop(['LONGITUDE', 'LATITUDE'], axis=1)\n",
    "crs = {'init': 'epsg:32755'}\n",
    "geo_df = GeoDataFrame(df, crs=crs, geometry=geometry)\n",
    "geo_df.head()"
   ]
  },
  {
   "cell_type": "code",
   "execution_count": 4,
   "metadata": {
    "collapsed": false
   },
   "outputs": [
    {
     "data": {
      "text/plain": [
       "<matplotlib.axes._subplots.AxesSubplot at 0x20d2163ee10>"
      ]
     },
     "execution_count": 4,
     "metadata": {},
     "output_type": "execute_result"
    },
    {
     "data": {
      "image/png": "[encoded data removed]",
      "text/plain": [
       "<matplotlib.figure.Figure at 0x20d1e5dacf8>"
      ]
     },
     "metadata": {},
     "output_type": "display_data"
    }
   ],
   "source": [
    "# lets look at that!  Should look a bit like Canberra\n",
    "geo_df.plot()"
   ]
  },
  {
   "cell_type": "code",
   "execution_count": 5,
   "metadata": {
    "collapsed": false
   },
   "outputs": [
    {
     "data": {
      "text/html": [
       "<div>\n",
       "<table border=\"1\" class=\"dataframe\">\n",
       "  <thead>\n",
       "    <tr style=\"text-align: right;\">\n",
       "      <th></th>\n",
       "      <th>REPORTED_LOCATION</th>\n",
       "    </tr>\n",
       "  </thead>\n",
       "  <tbody>\n",
       "    <tr>\n",
       "      <th>0</th>\n",
       "      <td>AINSLIE/LIMESTONE INTERSECTION</td>\n",
       "    </tr>\n",
       "    <tr>\n",
       "      <th>1</th>\n",
       "      <td>ALEXANDRINA/CORONATION/FLYNN INTERSECTION</td>\n",
       "    </tr>\n",
       "    <tr>\n",
       "      <th>2</th>\n",
       "      <td>ANTILL/MOUAT/NORTHBOURNE INTERSECTION</td>\n",
       "    </tr>\n",
       "    <tr>\n",
       "      <th>3</th>\n",
       "      <td>ATHLLON/BEASLEY (SW) INTERSECTION</td>\n",
       "    </tr>\n",
       "    <tr>\n",
       "      <th>4</th>\n",
       "      <td>ATHLLON/DRAKEFORD/ISABELLA INTERSECTION</td>\n",
       "    </tr>\n",
       "  </tbody>\n",
       "</table>\n",
       "</div>"
      ],
      "text/plain": [
       "                           REPORTED_LOCATION\n",
       "0             AINSLIE/LIMESTONE INTERSECTION\n",
       "1  ALEXANDRINA/CORONATION/FLYNN INTERSECTION\n",
       "2      ANTILL/MOUAT/NORTHBOURNE INTERSECTION\n",
       "3          ATHLLON/BEASLEY (SW) INTERSECTION\n",
       "4    ATHLLON/DRAKEFORD/ISABELLA INTERSECTION"
      ]
     },
     "execution_count": 5,
     "metadata": {},
     "output_type": "execute_result"
    }
   ],
   "source": [
    "# Now I want a reference list of \"dangerzones\" - more than 2 registered crashes (arbitrary number)\n",
    "\n",
    "tally = pd.DataFrame(df.groupby('REPORTED_LOCATION').count().loc[:,'CYCLISTS'])\n",
    "dangerzones = pd.DataFrame(tally[tally['CYCLISTS'] > 2].index)\n",
    "dangerzones.head()"
   ]
  },
  {
   "cell_type": "code",
   "execution_count": 6,
   "metadata": {
    "collapsed": false
   },
   "outputs": [],
   "source": [
    "# use the dangerzone list filter the original geo_df to only include those locations\n",
    "# (i.e) if there's only one or two, they're being ditched.\n",
    "\n",
    "test = geo_df['REPORTED_LOCATION'].isin(dangerzones['REPORTED_LOCATION'])\n",
    "dangerzone_hits = geo_df[test]"
   ]
  },
  {
   "cell_type": "code",
   "execution_count": 7,
   "metadata": {
    "collapsed": false
   },
   "outputs": [
    {
     "data": {
      "text/plain": [
       "<matplotlib.axes._subplots.AxesSubplot at 0x20d251c4be0>"
      ]
     },
     "execution_count": 7,
     "metadata": {},
     "output_type": "execute_result"
    },
    {
     "data": {
      "image/png": "[encoded data removed]",
      "text/plain": [
       "<matplotlib.figure.Figure at 0x20d22e2dc50>"
      ]
     },
     "metadata": {},
     "output_type": "display_data"
    },
    {
     "data": {
      "image/png": "[encoded data removed]",
      "text/plain": [
       "<matplotlib.figure.Figure at 0x20d22ec7a90>"
      ]
     },
     "metadata": {},
     "output_type": "display_data"
    }
   ],
   "source": [
    "# compare the full plot to the dangerzone plot - should be sparser\n",
    "geo_df.plot()\n",
    "dangerzone_hits.plot()\n",
    "\n"
   ]
  },
  {
   "cell_type": "code",
   "execution_count": 8,
   "metadata": {
    "collapsed": true
   },
   "outputs": [],
   "source": [
    "# THIS IS THE BIT AT WHICH YOU SHOULD SEND SALLY THE DATA ('dangerzone_hits')\n",
    "# EVERYTHING ELSE WAS EXPERIMENTATION THAT DIDN'T QUITE WORK\n",
    "# WELL IT DID WORK, BUT IT DIDN'T EXPORT GREAT\n",
    "# SALLY CAN DO IT AND MORE IN ARC\n",
    "# YAY SALLY\n",
    "\n",
    "# We learnt a lot though.\n",
    "# Like: don't learn Geo at GovHack"
   ]
  },
  {
   "cell_type": "code",
   "execution_count": 9,
   "metadata": {
    "collapsed": false
   },
   "outputs": [],
   "source": [
    "# store the dangerzone geometry only (reducing number of columns)\n",
    "\n",
    "#dangerzone_hits_geo = dangerzone_hits[['REPORTED_LOCATION','geometry']].sort_values('REPORTED_LOCATION')\n",
    "#dangerzone_hits_geo.head()"
   ]
  },
  {
   "cell_type": "code",
   "execution_count": 10,
   "metadata": {
    "collapsed": false
   },
   "outputs": [],
   "source": [
    "# put all the points into a single row for each location\n",
    "# this will probably screw up the projections (crs).  Don't learn Geo at GovHack.\n",
    "\n",
    "dissolved = GeoDataFrame(dangerzone_hits.dissolve('REPORTED_LOCATION'), crs=crs)\n"
   ]
  },
  {
   "cell_type": "code",
   "execution_count": 12,
   "metadata": {
    "collapsed": false
   },
   "outputs": [
    {
     "name": "stdout",
     "output_type": "stream",
     "text": [
      "REPORTED_LOCATION\n",
      "AINSLIE/LIMESTONE INTERSECTION               POLYGON ((149.143722 -35.276403, 149.143848 -3...\n",
      "ALEXANDRINA/CORONATION/FLYNN INTERSECTION    POLYGON ((149.121906 -35.300644, 149.122262 -3...\n",
      "ANTILL/MOUAT/NORTHBOURNE INTERSECTION        POLYGON ((149.134102 -35.248345, 149.134301 -3...\n",
      "ATHLLON/BEASLEY (SW) INTERSECTION                                POINT (149.092895 -35.371915)\n",
      "ATHLLON/DRAKEFORD/ISABELLA INTERSECTION      POLYGON ((149.07791 -35.424077, 149.078527 -35...\n",
      "ATHLLON/SULWOOD INTERSECTION                 POLYGON ((149.092808 -35.384625, 149.093074 -3...\n",
      "BARRY/BOLDREWOOD INTERSECTION                POLYGON ((149.120268 -35.27301, 149.120306 -35...\n",
      "BARRY/COOYONG/NORTHBOURNE INTERSECTION       POLYGON ((149.129487 -35.275854, 149.129887 -3...\n",
      "BARRY/MARCUS CLARKE INTERSECTION             POLYGON ((149.126717 -35.275627, 149.1268 -35....\n",
      "BARRY/MCCAUGHEY/NORTH INTERSECTION           POLYGON ((149.121763 -35.273574, 149.121966 -3...\n",
      "dtype: object\n"
     ]
    }
   ],
   "source": [
    "# this will provided the minimal N-S, E-W rectangle that contains all the points in each row of dissolved\n",
    "# this has been superceded by work with buffers and in arc, but it took ages so I'm leaving it here\n",
    "\n",
    "# Row 4 or something has just a single point which stuffs it up (the buffer should fix that)\n",
    "# ENVELOPED\n",
    "\n",
    "enveloped = dissolved.envelope\n",
    "enveloped.columns = ['geometry']\n",
    "print(enveloped.head(10))"
   ]
  },
  {
   "cell_type": "code",
   "execution_count": 13,
   "metadata": {
    "collapsed": false
   },
   "outputs": [
    {
     "name": "stdout",
     "output_type": "stream",
     "text": [
      "                                                                                    geometry\n",
      "REPORTED_LOCATION                                                                           \n",
      "AINSLIE/LIMESTONE INTERSECTION             POLYGON ((149.1436942925883 -35.27627102494088...\n",
      "ALEXANDRINA/CORONATION/FLYNN INTERSECTION  (POLYGON ((149.122362 -35.300487, 149.12236151...\n",
      "ANTILL/MOUAT/NORTHBOURNE INTERSECTION      POLYGON ((149.1340183624033 -35.24829026155257...\n",
      "ATHLLON/BEASLEY (SW) INTERSECTION          POLYGON ((149.092995 -35.371915, 149.092994518...\n",
      "ATHLLON/DRAKEFORD/ISABELLA INTERSECTION    (POLYGON ((149.0784473044783 -35.4241372107507...\n"
     ]
    },
    {
     "data": {
      "text/plain": [
       "<matplotlib.axes._subplots.AxesSubplot at 0x20d258b2358>"
      ]
     },
     "execution_count": 13,
     "metadata": {},
     "output_type": "execute_result"
    },
    {
     "data": {
      "image/png": "[encoded data removed]",
      "text/plain": [
       "<matplotlib.figure.Figure at 0x20d258d1208>"
      ]
     },
     "metadata": {},
     "output_type": "display_data"
    }
   ],
   "source": [
    "# so this is attempting to draw polygons around the points\n",
    "# but I have no idea what units the buffer command is using\n",
    "# and we might have lost the crs  don't know.\n",
    "\n",
    "# Sally should just do all this in arc\n",
    "\n",
    "# BUFFERED\n",
    "\n",
    "buffered = GeoDataFrame(dissolved.buffer(0.0001), crs={'init': 'epsg:32755'})\n",
    "buffered.columns = ['geometry']\n",
    "print(buffered.head())\n",
    "buffered.plot()"
   ]
  },
  {
   "cell_type": "code",
   "execution_count": null,
   "metadata": {
    "collapsed": false
   },
   "outputs": [],
   "source": [
    "# this will send the buffered results to a file\n",
    "# except it doesn't work\n",
    "# Sally should do this all in arc\n",
    "buffered.to_file('buffered')"
   ]
  }
 ],
 "metadata": {
  "kernelspec": {
   "display_name": "Python 3",
   "language": "python",
   "name": "python3"
  },
  "language_info": {
   "codemirror_mode": {
    "name": "ipython",
    "version": 3
   },
   "file_extension": ".py",
   "mimetype": "text/x-python",
   "name": "python",
   "nbconvert_exporter": "python",
   "pygments_lexer": "ipython3",
   "version": "3.6.0"
  }
 },
 "nbformat": 4,
 "nbformat_minor": 2
}
